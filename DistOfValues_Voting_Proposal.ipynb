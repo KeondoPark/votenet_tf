{
 "cells": [
  {
   "cell_type": "code",
   "execution_count": 2,
   "id": "1aeaa028",
   "metadata": {},
   "outputs": [],
   "source": [
    "import matplotlib.pyplot as plt"
   ]
  },
  {
   "cell_type": "code",
   "execution_count": 17,
   "id": "e99706ec",
   "metadata": {},
   "outputs": [],
   "source": [
    "import numpy as np\n",
    "import tensorflow as tf"
   ]
  },
  {
   "cell_type": "code",
   "execution_count": 4,
   "id": "fb62b792",
   "metadata": {},
   "outputs": [],
   "source": [
    "import os\n",
    "import sys\n",
    "BASE_DIR = '/home/keondopark/votenet_tf'\n",
    "ROOT_DIR = BASE_DIR\n",
    "sys.path.append(os.path.join(ROOT_DIR, 'utils'))\n",
    "sys.path.append(os.path.join(ROOT_DIR, 'models'))\n",
    "sys.path.append(os.path.join(ROOT_DIR, 'sunrgbd'))"
   ]
  },
  {
   "cell_type": "code",
   "execution_count": 6,
   "id": "9b2c65bf",
   "metadata": {},
   "outputs": [],
   "source": [
    "os.environ['CUDA_VISIBLE_DEVICES']=\"3\""
   ]
  },
  {
   "cell_type": "code",
   "execution_count": 8,
   "id": "3d579188",
   "metadata": {},
   "outputs": [],
   "source": [
    "from utils.pc_util import random_sampling, read_ply\n",
    "\n",
    "import votenet_tf\n",
    "from pointnet2 import tf_utils\n",
    "\n",
    "import tensorflow as tf\n",
    "from tensorflow.keras import layers\n",
    "\n",
    "from sunrgbd.sunrgbd_detection_dataset_tf import SunrgbdDetectionVotesDataset_tfrecord, MAX_NUM_OBJ\n",
    "from sunrgbd.model_util_sunrgbd import SunrgbdDatasetConfig\n",
    "import voting_module_tf\n",
    "import json\n",
    "import tqdm"
   ]
  },
  {
   "cell_type": "code",
   "execution_count": 9,
   "id": "c68b4664",
   "metadata": {},
   "outputs": [],
   "source": [
    "DATASET_CONFIG = SunrgbdDatasetConfig()"
   ]
  },
  {
   "cell_type": "code",
   "execution_count": 13,
   "id": "3ff25224",
   "metadata": {},
   "outputs": [],
   "source": [
    "model_config = json.load(open('configs/config_2way_nofp_sep_4.json'))"
   ]
  },
  {
   "cell_type": "markdown",
   "id": "19315ece",
   "metadata": {},
   "source": [
    "# Build the model"
   ]
  },
  {
   "cell_type": "code",
   "execution_count": 14,
   "id": "8dc5b8d2",
   "metadata": {
    "scrolled": true
   },
   "outputs": [
    {
     "name": "stdout",
     "output_type": "stream",
     "text": [
      "Constructed model.\n"
     ]
    }
   ],
   "source": [
    "# Init the model and optimzier    \n",
    "net = votenet_tf.VoteNet(num_proposal=256, input_feature_dim=3+ DATASET_CONFIG.num_class, vote_factor=1,\n",
    "    #sampling='seed_fps', num_class=DC.num_class,\n",
    "    sampling='vote_fps', num_class=DATASET_CONFIG.num_class,\n",
    "    num_heading_bin=DATASET_CONFIG.num_heading_bin,\n",
    "    num_size_cluster=DATASET_CONFIG.num_size_cluster,\n",
    "    mean_size_arr=DATASET_CONFIG.mean_size_arr,\n",
    "    model_config=model_config)\n",
    "print('Constructed model.')"
   ]
  },
  {
   "cell_type": "markdown",
   "id": "d73b1589",
   "metadata": {},
   "source": [
    "# Get checkpoint and resotre weights"
   ]
  },
  {
   "cell_type": "code",
   "execution_count": 15,
   "id": "b3df9864",
   "metadata": {},
   "outputs": [
    {
     "data": {
      "text/plain": [
       "<tensorflow.python.training.tracking.util.CheckpointLoadStatus at 0x7f4dca1ded90>"
      ]
     },
     "execution_count": 15,
     "metadata": {},
     "output_type": "execute_result"
    }
   ],
   "source": [
    "optimizer = tf.keras.optimizers.Adam(learning_rate=0.001)\n",
    "checkpoint_path = os.path.join(BASE_DIR, 'tf_ckpt', model_config['model_id'])\n",
    "ckpt = tf.train.Checkpoint(epoch=tf.Variable(1), optimizer=optimizer, net=net)\n",
    "manager = tf.train.CheckpointManager(ckpt, checkpoint_path, max_to_keep=3)\n",
    "ckpt.restore(manager.latest_checkpoint)"
   ]
  },
  {
   "cell_type": "code",
   "execution_count": 19,
   "id": "b8429bf9",
   "metadata": {},
   "outputs": [],
   "source": [
    "BATCH_SIZE=8\n",
    "# Load and preprocess input point cloud     \n",
    "pc = tf.convert_to_tensor(np.random.random([BATCH_SIZE,20000,3+1+1+10+1]))\n",
    "\n",
    "# Model inference\n",
    "inputs = {'point_clouds': tf.convert_to_tensor(pc)}\n",
    "\n",
    "end_points = net(inputs['point_clouds'], training=False)"
   ]
  },
  {
   "cell_type": "markdown",
   "id": "a67a5b7f",
   "metadata": {},
   "source": [
    "# Define voting and proposal modules"
   ]
  },
  {
   "cell_type": "code",
   "execution_count": 24,
   "id": "dea35061",
   "metadata": {},
   "outputs": [],
   "source": [
    "class nnInVotingModule(tf.keras.Model):\n",
    "    def __init__(self, vote_factor, seed_feature_dim):            \n",
    "        super().__init__()\n",
    "\n",
    "        self.vote_factor = vote_factor\n",
    "        self.in_dim = seed_feature_dim            \n",
    "        self.out_dim = self.in_dim # due to residual feature, in_dim has to be == out_dim\n",
    "        self.sep_coords = sep_coords\n",
    "        self.conv0 = layers.Conv2D(filters=self.in_dim, kernel_size=1)\n",
    "        self.conv1 = layers.Conv2D(filters=self.in_dim, kernel_size=1)        \n",
    "        self.conv2 = layers.Conv2D(filters=self.in_dim, kernel_size=1)\n",
    "        self.conv3 = layers.Conv2D(filters=(self.out_dim+3) * self.vote_factor, kernel_size=1)         \n",
    "        self.bn0 = layers.BatchNormalization(axis=-1)\n",
    "        self.bn1 = layers.BatchNormalization(axis=-1)\n",
    "        self.bn2 = layers.BatchNormalization(axis=-1)\n",
    "        self.relu0 = layers.ReLU(6)\n",
    "        self.relu1 = layers.ReLU(6)\n",
    "        self.relu2 = layers.ReLU(6)\n",
    "\n",
    "    def call(self, seed_xyz, seed_features):\n",
    "\n",
    "        num_seed = 1024           \n",
    "\n",
    "        net0 = self.relu0(self.bn0(self.conv0(seed_features)))\n",
    "        net = self.relu1(self.bn1(self.conv1(net0))) \n",
    "        net = self.relu2(self.bn2(self.conv2(net))) \n",
    "        net = self.conv3(net)\n",
    "        return net\n",
    "\n",
    "class vaModule(tf.keras.Model):\n",
    "    def __init__(self, mlp_spec, input_shape, nsample=0):\n",
    "        super().__init__()\n",
    "        self.sharedMLP = tf_utils.SharedMLP(mlp_spec, bn=True, input_shape=input_shape)\n",
    "        self.npoint = 256\n",
    "        self.nsample = nsample            \n",
    "        self.sep_coords = sep_coords\n",
    "        self.max_pool = layers.MaxPooling2D(pool_size=(1, 16), strides=(1,16), data_format=\"channels_last\")            \n",
    "\n",
    "        NH = DATASET_CONFIG.num_heading_bin\n",
    "        NC = DATASET_CONFIG.num_size_cluster\n",
    "        num_class = DATASET_CONFIG.num_class\n",
    "        \n",
    "        self.conv1 = layers.Conv2D(filters=128, kernel_size=1)        \n",
    "        self.conv2 = layers.Conv2D(filters=128, kernel_size=1)\n",
    "        self.conv3 = layers.Conv2D(filters=2+3+NH*2+NC*4+num_class, kernel_size=1)\n",
    "        self.bn1 = layers.BatchNormalization(axis=-1)\n",
    "        self.bn2 = layers.BatchNormalization(axis=-1)\n",
    "        self.relu1 = layers.ReLU(6)\n",
    "        self.relu2 = layers.ReLU(6)\n",
    "\n",
    "    def call(self, xyz, grouped_features):            \n",
    "\n",
    "        new_features = self.max_pool(self.sharedMLP(grouped_features))     \n",
    "        # --------- PROPOSAL GENERATION ---------\n",
    "        net = self.relu1(self.bn1(self.conv1(new_features)))\n",
    "        net = self.relu2(self.bn2(self.conv2(net))) \n",
    "        net = self.conv3(net)\n",
    "        return net"
   ]
  },
  {
   "cell_type": "markdown",
   "id": "15125927",
   "metadata": {},
   "source": [
    "## Create pseudo modules to get activations easier"
   ]
  },
  {
   "cell_type": "code",
   "execution_count": 29,
   "id": "5cfbbefe",
   "metadata": {},
   "outputs": [],
   "source": [
    "# Create pseudo module to have more control on activations\n",
    "voting = nnInVotingModule(vote_factor=1, seed_feature_dim=256)        \n",
    "\n",
    "# Build network by forwarding once\n",
    "dummy_in_voting_features = tf.convert_to_tensor(np.random.random([BATCH_SIZE,1024,1,256*3])) # (B, num_seed, 1, 256*3)\n",
    "dummy_in_voting_xyz =  tf.convert_to_tensor(np.random.random([BATCH_SIZE,1024,1,3])) # (B, num_seed, 1, 3)        \n",
    "dummy_out = voting(dummy_in_voting_xyz, dummy_in_voting_features)\n",
    "\n",
    "# Set weights of the pseudo module\n",
    "layer = voting\n",
    "layer.conv0.set_weights(net.vgen.conv0.get_weights())\n",
    "layer.conv1.set_weights(net.vgen.conv1.get_weights())\n",
    "layer.conv2.set_weights(net.vgen.conv2.get_weights())\n",
    "layer.conv3.set_weights(net.vgen.conv3.get_weights())\n",
    "\n",
    "layer.bn0.set_weights(net.vgen.bn0.get_weights())\n",
    "layer.bn1.set_weights(net.vgen.bn1.get_weights())\n",
    "layer.bn2.set_weights(net.vgen.bn2.get_weights())"
   ]
  },
  {
   "cell_type": "code",
   "execution_count": 30,
   "id": "908d2a53",
   "metadata": {},
   "outputs": [],
   "source": [
    "# Create pseudo module to have more control on activations\n",
    "va_mlp = vaModule(mlp_spec=[128, 128, 128, 128], nsample=16, input_shape=[256,16,256+3])\n",
    "\n",
    "# Build network by forwarding once\n",
    "dummy_va_features = tf.convert_to_tensor(np.random.random([BATCH_SIZE,256,16,(256+3)]), dtype=tf.float32) # (B, npoint, 3 + nsample*(C+3)) \n",
    "dummy_va_xyz = tf.convert_to_tensor(np.random.random([BATCH_SIZE,256,3]), dtype=tf.float32) # (B, npoint, 3 + nsample*(C+3)) \n",
    "dummy_out = va_mlp(dummy_va_xyz, dummy_va_features)\n",
    "\n",
    "# Set weights of the pseudo module\n",
    "layer = va_mlp.sharedMLP\n",
    "layer.set_weights(net.pnet.mlp_module.get_weights())\n",
    "\n",
    "layer = va_mlp\n",
    "layer.conv1.set_weights(net.pnet.conv1.get_weights())\n",
    "layer.conv2.set_weights(net.pnet.conv2.get_weights())\n",
    "layer.conv3.set_weights(net.pnet.conv3.get_weights())\n",
    "\n",
    "layer.bn1.set_weights(net.pnet.bn1.get_weights())\n",
    "layer.bn2.set_weights(net.pnet.bn2.get_weights())"
   ]
  },
  {
   "cell_type": "markdown",
   "id": "094e0b98",
   "metadata": {},
   "source": [
    "## Get activations distribution"
   ]
  },
  {
   "cell_type": "code",
   "execution_count": 28,
   "id": "fdd8807a",
   "metadata": {},
   "outputs": [
    {
     "name": "stdout",
     "output_type": "stream",
     "text": [
      "/data/sunrgbd_pc_train_painted_tf4\n",
      "WARNING:tensorflow:From /home/keondopark/anaconda3/envs/tf_3090/lib/python3.8/site-packages/tensorflow/python/ops/array_ops.py:5043: calling gather (from tensorflow.python.ops.array_ops) with validate_indices is deprecated and will be removed in a future version.\n",
      "Instructions for updating:\n",
      "The `validate_indices` argument has no effect. Indices are always validated on CPU and never validated on GPU.\n"
     ]
    }
   ],
   "source": [
    "TRAIN_DATASET = SunrgbdDetectionVotesDataset_tfrecord('train', num_points=20000,\n",
    "        augment=False, shuffle=True, batch_size=BATCH_SIZE,\n",
    "        use_color=False, use_height=True,\n",
    "        use_painted=True, DC=DATASET_CONFIG)\n",
    "\n",
    "ds = TRAIN_DATASET.preprocess()\n",
    "ds = ds.prefetch(BATCH_SIZE)"
   ]
  },
  {
   "cell_type": "code",
   "execution_count": 64,
   "id": "b67661c1",
   "metadata": {
    "scrolled": true
   },
   "outputs": [
    {
     "name": "stdout",
     "output_type": "stream",
     "text": [
      "Processing  1 -th batch\n",
      "Processing  2 -th batch\n",
      "Processing  3 -th batch\n",
      "Processing  4 -th batch\n",
      "Processing  5 -th batch\n",
      "Processing  6 -th batch\n",
      "Processing  7 -th batch\n",
      "Processing  8 -th batch\n",
      "Processing  9 -th batch\n",
      "Processing  10 -th batch\n",
      "Processing  11 -th batch\n",
      "Processing  12 -th batch\n",
      "Processing  13 -th batch\n",
      "Processing  14 -th batch\n",
      "Processing  15 -th batch\n",
      "Processing  16 -th batch\n",
      "Processing  17 -th batch\n",
      "Processing  18 -th batch\n",
      "Processing  19 -th batch\n",
      "Processing  20 -th batch\n",
      "Processing  21 -th batch\n",
      "Processing  22 -th batch\n",
      "Processing  23 -th batch\n",
      "Processing  24 -th batch\n",
      "Processing  25 -th batch\n",
      "Processing  26 -th batch\n",
      "Processing  27 -th batch\n",
      "Processing  28 -th batch\n",
      "Processing  29 -th batch\n",
      "Processing  30 -th batch\n",
      "Processing  31 -th batch\n",
      "Processing  32 -th batch\n",
      "Processing  33 -th batch\n",
      "Processing  34 -th batch\n",
      "Processing  35 -th batch\n",
      "Processing  36 -th batch\n",
      "Processing  37 -th batch\n",
      "Processing  38 -th batch\n",
      "Processing  39 -th batch\n",
      "Processing  40 -th batch\n",
      "Processing  41 -th batch\n",
      "Processing  42 -th batch\n",
      "Processing  43 -th batch\n",
      "Processing  44 -th batch\n",
      "Processing  45 -th batch\n",
      "Processing  46 -th batch\n",
      "Processing  47 -th batch\n",
      "Processing  48 -th batch\n",
      "Processing  49 -th batch\n",
      "Processing  50 -th batch\n",
      "Processing  51 -th batch\n",
      "Processing  52 -th batch\n",
      "Processing  53 -th batch\n",
      "Processing  54 -th batch\n",
      "Processing  55 -th batch\n",
      "Processing  56 -th batch\n",
      "Processing  57 -th batch\n",
      "Processing  58 -th batch\n",
      "Processing  59 -th batch\n",
      "Processing  60 -th batch\n",
      "Processing  61 -th batch\n",
      "Processing  62 -th batch\n",
      "Processing  63 -th batch\n",
      "Processing  64 -th batch\n",
      "Processing  65 -th batch\n",
      "Processing  66 -th batch\n",
      "Processing  67 -th batch\n",
      "Processing  68 -th batch\n",
      "Processing  69 -th batch\n",
      "Processing  70 -th batch\n",
      "Processing  71 -th batch\n",
      "Processing  72 -th batch\n",
      "Processing  73 -th batch\n",
      "Processing  74 -th batch\n",
      "Processing  75 -th batch\n",
      "Processing  76 -th batch\n",
      "Processing  77 -th batch\n",
      "Processing  78 -th batch\n",
      "Processing  79 -th batch\n",
      "Processing  80 -th batch\n",
      "Processing  81 -th batch\n",
      "Processing  82 -th batch\n",
      "Processing  83 -th batch\n",
      "Processing  84 -th batch\n",
      "Processing  85 -th batch\n",
      "Processing  86 -th batch\n",
      "Processing  87 -th batch\n",
      "Processing  88 -th batch\n",
      "Processing  89 -th batch\n",
      "Processing  90 -th batch\n",
      "Processing  91 -th batch\n",
      "Processing  92 -th batch\n",
      "Processing  93 -th batch\n",
      "Processing  94 -th batch\n",
      "Processing  95 -th batch\n",
      "Processing  96 -th batch\n",
      "Processing  97 -th batch\n",
      "Processing  98 -th batch\n",
      "Processing  99 -th batch\n",
      "Processing  100 -th batch\n",
      "Processing  101 -th batch\n",
      "Processing  102 -th batch\n",
      "Processing  103 -th batch\n",
      "Processing  104 -th batch\n",
      "Processing  105 -th batch\n",
      "Processing  106 -th batch\n",
      "Processing  107 -th batch\n",
      "Processing  108 -th batch\n",
      "Processing  109 -th batch\n",
      "Processing  110 -th batch\n",
      "Processing  111 -th batch\n",
      "Processing  112 -th batch\n",
      "Processing  113 -th batch\n",
      "Processing  114 -th batch\n",
      "Processing  115 -th batch\n",
      "Processing  116 -th batch\n",
      "Processing  117 -th batch\n",
      "Processing  118 -th batch\n",
      "Processing  119 -th batch\n",
      "Processing  120 -th batch\n",
      "Processing  121 -th batch\n",
      "Processing  122 -th batch\n",
      "Processing  123 -th batch\n",
      "Processing  124 -th batch\n",
      "Processing  125 -th batch\n",
      "Processing  126 -th batch\n",
      "Processing  127 -th batch\n",
      "Processing  128 -th batch\n",
      "Processing  129 -th batch\n",
      "Processing  130 -th batch\n",
      "Processing  131 -th batch\n",
      "Processing  132 -th batch\n",
      "Processing  133 -th batch\n",
      "Processing  134 -th batch\n",
      "Processing  135 -th batch\n",
      "Processing  136 -th batch\n",
      "Processing  137 -th batch\n",
      "Processing  138 -th batch\n",
      "Processing  139 -th batch\n",
      "Processing  140 -th batch\n",
      "Processing  141 -th batch\n",
      "Processing  142 -th batch\n",
      "Processing  143 -th batch\n",
      "Processing  144 -th batch\n",
      "Processing  145 -th batch\n",
      "Processing  146 -th batch\n",
      "Processing  147 -th batch\n",
      "Processing  148 -th batch\n",
      "Processing  149 -th batch\n",
      "Processing  150 -th batch\n",
      "Processing  151 -th batch\n",
      "Processing  152 -th batch\n",
      "Processing  153 -th batch\n",
      "Processing  154 -th batch\n",
      "Processing  155 -th batch\n",
      "Processing  156 -th batch\n",
      "Processing  157 -th batch\n",
      "Processing  158 -th batch\n",
      "Processing  159 -th batch\n",
      "Processing  160 -th batch\n",
      "Processing  161 -th batch\n",
      "Processing  162 -th batch\n",
      "Processing  163 -th batch\n",
      "Processing  164 -th batch\n",
      "Processing  165 -th batch\n",
      "Processing  166 -th batch\n",
      "Processing  167 -th batch\n",
      "Processing  168 -th batch\n",
      "Processing  169 -th batch\n",
      "Processing  170 -th batch\n",
      "Processing  171 -th batch\n",
      "Processing  172 -th batch\n",
      "Processing  173 -th batch\n",
      "Processing  174 -th batch\n",
      "Processing  175 -th batch\n",
      "Processing  176 -th batch\n",
      "Processing  177 -th batch\n",
      "Processing  178 -th batch\n",
      "Processing  179 -th batch\n",
      "Processing  180 -th batch\n",
      "Processing  181 -th batch\n",
      "Processing  182 -th batch\n",
      "Processing  183 -th batch\n",
      "Processing  184 -th batch\n",
      "Processing  185 -th batch\n",
      "Processing  186 -th batch\n",
      "Processing  187 -th batch\n",
      "Processing  188 -th batch\n",
      "Processing  189 -th batch\n",
      "Processing  190 -th batch\n",
      "Processing  191 -th batch\n",
      "Processing  192 -th batch\n",
      "Processing  193 -th batch\n",
      "Processing  194 -th batch\n",
      "Processing  195 -th batch\n",
      "Processing  196 -th batch\n",
      "Processing  197 -th batch\n",
      "Processing  198 -th batch\n",
      "Processing  199 -th batch\n",
      "Processing  200 -th batch\n",
      "Processing  201 -th batch\n",
      "Processing  202 -th batch\n",
      "Processing  203 -th batch\n",
      "Processing  204 -th batch\n",
      "Processing  205 -th batch\n",
      "Processing  206 -th batch\n",
      "Processing  207 -th batch\n",
      "Processing  208 -th batch\n",
      "Processing  209 -th batch\n",
      "Processing  210 -th batch\n",
      "Processing  211 -th batch\n",
      "Processing  212 -th batch\n",
      "Processing  213 -th batch\n",
      "Processing  214 -th batch\n",
      "Processing  215 -th batch\n",
      "Processing  216 -th batch\n",
      "Processing  217 -th batch\n",
      "Processing  218 -th batch\n",
      "Processing  219 -th batch\n",
      "Processing  220 -th batch\n",
      "Processing  221 -th batch\n",
      "Processing  222 -th batch\n",
      "Processing  223 -th batch\n",
      "Processing  224 -th batch\n",
      "Processing  225 -th batch\n",
      "Processing  226 -th batch\n",
      "Processing  227 -th batch\n",
      "Processing  228 -th batch\n",
      "Processing  229 -th batch\n",
      "Processing  230 -th batch\n",
      "Processing  231 -th batch\n",
      "Processing  232 -th batch\n",
      "Processing  233 -th batch\n",
      "Processing  234 -th batch\n",
      "Processing  235 -th batch\n",
      "Processing  236 -th batch\n",
      "Processing  237 -th batch\n",
      "Processing  238 -th batch\n",
      "Processing  239 -th batch\n",
      "Processing  240 -th batch\n",
      "Processing  241 -th batch\n",
      "Processing  242 -th batch\n",
      "Processing  243 -th batch\n",
      "Processing  244 -th batch\n",
      "Processing  245 -th batch\n",
      "Processing  246 -th batch\n",
      "Processing  247 -th batch\n",
      "Processing  248 -th batch\n",
      "Processing  249 -th batch\n",
      "Processing  250 -th batch\n",
      "Processing  251 -th batch\n",
      "Processing  252 -th batch\n",
      "Processing  253 -th batch\n",
      "Processing  254 -th batch\n",
      "Processing  255 -th batch\n",
      "Processing  256 -th batch\n",
      "Processing  257 -th batch\n",
      "Processing  258 -th batch\n",
      "Processing  259 -th batch\n",
      "Processing  260 -th batch\n",
      "Processing  261 -th batch\n",
      "Processing  262 -th batch\n",
      "Processing  263 -th batch\n",
      "Processing  264 -th batch\n",
      "Processing  265 -th batch\n",
      "Processing  266 -th batch\n",
      "Processing  267 -th batch\n",
      "Processing  268 -th batch\n",
      "Processing  269 -th batch\n",
      "Processing  270 -th batch\n",
      "Processing  271 -th batch\n",
      "Processing  272 -th batch\n",
      "Processing  273 -th batch\n",
      "Processing  274 -th batch\n",
      "Processing  275 -th batch\n",
      "Processing  276 -th batch\n",
      "Processing  277 -th batch\n",
      "Processing  278 -th batch\n",
      "Processing  279 -th batch\n",
      "Processing  280 -th batch\n",
      "Processing  281 -th batch\n",
      "Processing  282 -th batch\n",
      "Processing  283 -th batch\n",
      "Processing  284 -th batch\n",
      "Processing  285 -th batch\n",
      "Processing  286 -th batch\n",
      "Processing  287 -th batch\n",
      "Processing  288 -th batch\n",
      "Processing  289 -th batch\n",
      "Processing  290 -th batch\n",
      "Processing  291 -th batch\n",
      "Processing  292 -th batch\n",
      "Processing  293 -th batch\n",
      "Processing  294 -th batch\n",
      "Processing  295 -th batch\n",
      "Processing  296 -th batch\n",
      "Processing  297 -th batch\n",
      "Processing  298 -th batch\n",
      "Processing  299 -th batch\n",
      "Processing  300 -th batch\n",
      "Processing  301 -th batch\n",
      "Processing  302 -th batch\n",
      "Processing  303 -th batch\n",
      "Processing  304 -th batch\n",
      "Processing  305 -th batch\n",
      "Processing  306 -th batch\n",
      "Processing  307 -th batch\n",
      "Processing  308 -th batch\n",
      "Processing  309 -th batch\n",
      "Processing  310 -th batch\n",
      "Processing  311 -th batch\n",
      "Processing  312 -th batch\n",
      "Processing  313 -th batch\n",
      "Processing  314 -th batch\n",
      "Processing  315 -th batch\n",
      "Processing  316 -th batch\n",
      "Processing  317 -th batch\n",
      "Processing  318 -th batch\n",
      "Processing  319 -th batch\n",
      "Processing  320 -th batch\n"
     ]
    },
    {
     "name": "stdout",
     "output_type": "stream",
     "text": [
      "Processing  321 -th batch\n",
      "Processing  322 -th batch\n",
      "Processing  323 -th batch\n",
      "Processing  324 -th batch\n",
      "Processing  325 -th batch\n",
      "Processing  326 -th batch\n",
      "Processing  327 -th batch\n",
      "Processing  328 -th batch\n",
      "Processing  329 -th batch\n",
      "Processing  330 -th batch\n",
      "Processing  331 -th batch\n",
      "Processing  332 -th batch\n",
      "Processing  333 -th batch\n",
      "Processing  334 -th batch\n",
      "Processing  335 -th batch\n",
      "Processing  336 -th batch\n",
      "Processing  337 -th batch\n",
      "Processing  338 -th batch\n",
      "Processing  339 -th batch\n",
      "Processing  340 -th batch\n",
      "Processing  341 -th batch\n",
      "Processing  342 -th batch\n",
      "Processing  343 -th batch\n",
      "Processing  344 -th batch\n",
      "Processing  345 -th batch\n",
      "Processing  346 -th batch\n",
      "Processing  347 -th batch\n",
      "Processing  348 -th batch\n",
      "Processing  349 -th batch\n",
      "Processing  350 -th batch\n",
      "Processing  351 -th batch\n",
      "Processing  352 -th batch\n",
      "Processing  353 -th batch\n",
      "Processing  354 -th batch\n",
      "Processing  355 -th batch\n",
      "Processing  356 -th batch\n",
      "Processing  357 -th batch\n",
      "Processing  358 -th batch\n",
      "Processing  359 -th batch\n",
      "Processing  360 -th batch\n",
      "Processing  361 -th batch\n",
      "Processing  362 -th batch\n",
      "Processing  363 -th batch\n",
      "Processing  364 -th batch\n",
      "Processing  365 -th batch\n",
      "Processing  366 -th batch\n",
      "Processing  367 -th batch\n",
      "Processing  368 -th batch\n",
      "Processing  369 -th batch\n",
      "Processing  370 -th batch\n",
      "Processing  371 -th batch\n",
      "Processing  372 -th batch\n",
      "Processing  373 -th batch\n",
      "Processing  374 -th batch\n",
      "Processing  375 -th batch\n",
      "Processing  376 -th batch\n",
      "Processing  377 -th batch\n",
      "Processing  378 -th batch\n",
      "Processing  379 -th batch\n",
      "Processing  380 -th batch\n",
      "Processing  381 -th batch\n",
      "Processing  382 -th batch\n",
      "Processing  383 -th batch\n",
      "Processing  384 -th batch\n",
      "Processing  385 -th batch\n",
      "Processing  386 -th batch\n",
      "Processing  387 -th batch\n",
      "Processing  388 -th batch\n",
      "Processing  389 -th batch\n",
      "Processing  390 -th batch\n",
      "Processing  391 -th batch\n",
      "Processing  392 -th batch\n",
      "Processing  393 -th batch\n",
      "Processing  394 -th batch\n",
      "Processing  395 -th batch\n",
      "Processing  396 -th batch\n",
      "Processing  397 -th batch\n",
      "Processing  398 -th batch\n",
      "Processing  399 -th batch\n",
      "Processing  400 -th batch\n",
      "Processing  401 -th batch\n",
      "Processing  402 -th batch\n",
      "Processing  403 -th batch\n",
      "Processing  404 -th batch\n",
      "Processing  405 -th batch\n",
      "Processing  406 -th batch\n",
      "Processing  407 -th batch\n",
      "Processing  408 -th batch\n",
      "Processing  409 -th batch\n",
      "Processing  410 -th batch\n",
      "Processing  411 -th batch\n",
      "Processing  412 -th batch\n",
      "Processing  413 -th batch\n",
      "Processing  414 -th batch\n",
      "Processing  415 -th batch\n",
      "Processing  416 -th batch\n",
      "Processing  417 -th batch\n",
      "Processing  418 -th batch\n",
      "Processing  419 -th batch\n",
      "Processing  420 -th batch\n",
      "Processing  421 -th batch\n",
      "Processing  422 -th batch\n",
      "Processing  423 -th batch\n",
      "Processing  424 -th batch\n",
      "Processing  425 -th batch\n",
      "Processing  426 -th batch\n",
      "Processing  427 -th batch\n",
      "Processing  428 -th batch\n",
      "Processing  429 -th batch\n",
      "Processing  430 -th batch\n",
      "Processing  431 -th batch\n",
      "Processing  432 -th batch\n",
      "Processing  433 -th batch\n",
      "Processing  434 -th batch\n",
      "Processing  435 -th batch\n",
      "Processing  436 -th batch\n",
      "Processing  437 -th batch\n",
      "Processing  438 -th batch\n",
      "Processing  439 -th batch\n",
      "Processing  440 -th batch\n",
      "Processing  441 -th batch\n",
      "Processing  442 -th batch\n",
      "Processing  443 -th batch\n",
      "Processing  444 -th batch\n",
      "Processing  445 -th batch\n",
      "Processing  446 -th batch\n",
      "Processing  447 -th batch\n",
      "Processing  448 -th batch\n",
      "Processing  449 -th batch\n",
      "Processing  450 -th batch\n",
      "Processing  451 -th batch\n",
      "Processing  452 -th batch\n",
      "Processing  453 -th batch\n",
      "Processing  454 -th batch\n",
      "Processing  455 -th batch\n",
      "Processing  456 -th batch\n",
      "Processing  457 -th batch\n",
      "Processing  458 -th batch\n",
      "Processing  459 -th batch\n",
      "Processing  460 -th batch\n",
      "Processing  461 -th batch\n",
      "Processing  462 -th batch\n",
      "Processing  463 -th batch\n",
      "Processing  464 -th batch\n",
      "Processing  465 -th batch\n",
      "Processing  466 -th batch\n",
      "Processing  467 -th batch\n",
      "Processing  468 -th batch\n",
      "Processing  469 -th batch\n",
      "Processing  470 -th batch\n",
      "Processing  471 -th batch\n",
      "Processing  472 -th batch\n",
      "Processing  473 -th batch\n",
      "Processing  474 -th batch\n",
      "Processing  475 -th batch\n",
      "Processing  476 -th batch\n",
      "Processing  477 -th batch\n",
      "Processing  478 -th batch\n",
      "Processing  479 -th batch\n",
      "Processing  480 -th batch\n",
      "Processing  481 -th batch\n",
      "Processing  482 -th batch\n",
      "Processing  483 -th batch\n",
      "Processing  484 -th batch\n",
      "Processing  485 -th batch\n",
      "Processing  486 -th batch\n",
      "Processing  487 -th batch\n",
      "Processing  488 -th batch\n",
      "Processing  489 -th batch\n",
      "Processing  490 -th batch\n",
      "Processing  491 -th batch\n",
      "Processing  492 -th batch\n",
      "Processing  493 -th batch\n",
      "Processing  494 -th batch\n",
      "Processing  495 -th batch\n",
      "Processing  496 -th batch\n",
      "Processing  497 -th batch\n",
      "Processing  498 -th batch\n",
      "Processing  499 -th batch\n",
      "Processing  500 -th batch\n",
      "Processing  501 -th batch\n",
      "Processing  502 -th batch\n",
      "Processing  503 -th batch\n",
      "Processing  504 -th batch\n",
      "Processing  505 -th batch\n",
      "Processing  506 -th batch\n",
      "Processing  507 -th batch\n",
      "Processing  508 -th batch\n",
      "Processing  509 -th batch\n",
      "Processing  510 -th batch\n",
      "Processing  511 -th batch\n",
      "Processing  512 -th batch\n",
      "Processing  513 -th batch\n",
      "Processing  514 -th batch\n",
      "Processing  515 -th batch\n",
      "Processing  516 -th batch\n",
      "Processing  517 -th batch\n",
      "Processing  518 -th batch\n",
      "Processing  519 -th batch\n",
      "Processing  520 -th batch\n",
      "Processing  521 -th batch\n",
      "Processing  522 -th batch\n",
      "Processing  523 -th batch\n",
      "Processing  524 -th batch\n",
      "Processing  525 -th batch\n",
      "Processing  526 -th batch\n",
      "Processing  527 -th batch\n",
      "Processing  528 -th batch\n",
      "Processing  529 -th batch\n",
      "Processing  530 -th batch\n",
      "Processing  531 -th batch\n",
      "Processing  532 -th batch\n",
      "Processing  533 -th batch\n",
      "Processing  534 -th batch\n",
      "Processing  535 -th batch\n",
      "Processing  536 -th batch\n",
      "Processing  537 -th batch\n",
      "Processing  538 -th batch\n",
      "Processing  539 -th batch\n",
      "Processing  540 -th batch\n",
      "Processing  541 -th batch\n",
      "Processing  542 -th batch\n",
      "Processing  543 -th batch\n",
      "Processing  544 -th batch\n",
      "Processing  545 -th batch\n",
      "Processing  546 -th batch\n",
      "Processing  547 -th batch\n",
      "Processing  548 -th batch\n",
      "Processing  549 -th batch\n",
      "Processing  550 -th batch\n",
      "Processing  551 -th batch\n",
      "Processing  552 -th batch\n",
      "Processing  553 -th batch\n",
      "Processing  554 -th batch\n",
      "Processing  555 -th batch\n",
      "Processing  556 -th batch\n",
      "Processing  557 -th batch\n",
      "Processing  558 -th batch\n",
      "Processing  559 -th batch\n",
      "Processing  560 -th batch\n",
      "Processing  561 -th batch\n",
      "Processing  562 -th batch\n",
      "Processing  563 -th batch\n",
      "Processing  564 -th batch\n",
      "Processing  565 -th batch\n",
      "Processing  566 -th batch\n",
      "Processing  567 -th batch\n",
      "Processing  568 -th batch\n",
      "Processing  569 -th batch\n",
      "Processing  570 -th batch\n",
      "Processing  571 -th batch\n",
      "Processing  572 -th batch\n",
      "Processing  573 -th batch\n",
      "Processing  574 -th batch\n",
      "Processing  575 -th batch\n",
      "Processing  576 -th batch\n",
      "Processing  577 -th batch\n",
      "Processing  578 -th batch\n",
      "Processing  579 -th batch\n",
      "Processing  580 -th batch\n",
      "Processing  581 -th batch\n",
      "Processing  582 -th batch\n",
      "Processing  583 -th batch\n",
      "Processing  584 -th batch\n",
      "Processing  585 -th batch\n",
      "Processing  586 -th batch\n",
      "Processing  587 -th batch\n",
      "Processing  588 -th batch\n",
      "Processing  589 -th batch\n",
      "Processing  590 -th batch\n",
      "Processing  591 -th batch\n",
      "Processing  592 -th batch\n",
      "Processing  593 -th batch\n",
      "Processing  594 -th batch\n",
      "Processing  595 -th batch\n",
      "Processing  596 -th batch\n",
      "Processing  597 -th batch\n",
      "Processing  598 -th batch\n",
      "Processing  599 -th batch\n",
      "Processing  600 -th batch\n",
      "Processing  601 -th batch\n",
      "Processing  602 -th batch\n",
      "Processing  603 -th batch\n",
      "Processing  604 -th batch\n",
      "Processing  605 -th batch\n",
      "Processing  606 -th batch\n",
      "Processing  607 -th batch\n",
      "Processing  608 -th batch\n",
      "Processing  609 -th batch\n",
      "Processing  610 -th batch\n",
      "Processing  611 -th batch\n",
      "Processing  612 -th batch\n",
      "Processing  613 -th batch\n",
      "Processing  614 -th batch\n",
      "Processing  615 -th batch\n",
      "Processing  616 -th batch\n",
      "Processing  617 -th batch\n",
      "Processing  618 -th batch\n",
      "Processing  619 -th batch\n",
      "Processing  620 -th batch\n",
      "Processing  621 -th batch\n",
      "Processing  622 -th batch\n",
      "Processing  623 -th batch\n",
      "Processing  624 -th batch\n",
      "Processing  625 -th batch\n",
      "Processing  626 -th batch\n",
      "Processing  627 -th batch\n",
      "Processing  628 -th batch\n",
      "Processing  629 -th batch\n",
      "Processing  630 -th batch\n",
      "Processing  631 -th batch\n",
      "Processing  632 -th batch\n",
      "Processing  633 -th batch\n",
      "Processing  634 -th batch\n",
      "Processing  635 -th batch\n",
      "Processing  636 -th batch\n"
     ]
    },
    {
     "name": "stdout",
     "output_type": "stream",
     "text": [
      "Processing  637 -th batch\n",
      "Processing  638 -th batch\n",
      "Processing  639 -th batch\n",
      "Processing  640 -th batch\n",
      "Processing  641 -th batch\n",
      "Processing  642 -th batch\n",
      "Processing  643 -th batch\n",
      "Processing  644 -th batch\n",
      "Processing  645 -th batch\n",
      "Processing  646 -th batch\n",
      "Processing  647 -th batch\n",
      "Processing  648 -th batch\n",
      "Processing  649 -th batch\n",
      "Processing  650 -th batch\n",
      "Processing  651 -th batch\n",
      "Processing  652 -th batch\n",
      "Processing  653 -th batch\n",
      "Processing  654 -th batch\n",
      "Processing  655 -th batch\n",
      "Processing  656 -th batch\n",
      "Processing  657 -th batch\n",
      "Processing  658 -th batch\n",
      "Processing  659 -th batch\n",
      "Processing  660 -th batch\n",
      "Processing  661 -th batch\n"
     ]
    }
   ],
   "source": [
    "first = True\n",
    "cnt = 0\n",
    "for batch_data in ds:    \n",
    "    cnt += 1\n",
    "    print('Processing ', cnt, '-th batch')\n",
    "    inputs = batch_data[0]\n",
    "    end_points = net(inputs, training=False)\n",
    "    \n",
    "    seed_xyz = tf.expand_dims(end_points['seed_xyz'], axis=-2)\n",
    "    seed_features = tf.expand_dims(end_points['seed_features'], axis=-2)\n",
    "    va_xyz = end_points['aggregated_vote_xyz']\n",
    "    va_grouped_features = end_points['va_grouped_features']\n",
    "    \n",
    "    voting_out = voting(seed_xyz, seed_features)  \n",
    "    proposal_out = va_mlp(va_xyz, va_grouped_features)\n",
    "    \n",
    "    if first:\n",
    "        voting_act_all = voting_out        \n",
    "        proposal_act_all = proposal_out        \n",
    "        first = False\n",
    "    else:\n",
    "        voting_act_all = tf.concat([voting_act_all, voting_out], axis=0)        \n",
    "        proposal_act_all = tf.concat([proposal_act_all, proposal_out], axis=0)        "
   ]
  },
  {
   "cell_type": "code",
   "execution_count": 65,
   "id": "b81b537f",
   "metadata": {},
   "outputs": [
    {
     "name": "stderr",
     "output_type": "stream",
     "text": [
      "2022-05-08 20:42:54.004913: W tensorflow/core/framework/cpu_allocator_impl.cc:80] Allocation of 5606666240 exceeds 10% of free system memory.\n",
      "2022-05-08 20:44:06.879102: W tensorflow/core/framework/cpu_allocator_impl.cc:80] Allocation of 427535360 exceeds 10% of free system memory.\n"
     ]
    }
   ],
   "source": [
    "voting_act_all = voting_act_all.numpy()\n",
    "proposal_act_all = proposal_act_all.numpy()"
   ]
  },
  {
   "cell_type": "code",
   "execution_count": 66,
   "id": "1410e9a0",
   "metadata": {},
   "outputs": [],
   "source": [
    "voting_act_coords = voting_act_all[:,:,:,:3]\n",
    "voting_act_features = voting_act_all[:,:,:,3:]\n",
    "proposal_act_coords = proposal_act_all[:,:,:,:3]\n",
    "proposal_act_features = proposal_act_all[:,:,:,3:]"
   ]
  },
  {
   "cell_type": "markdown",
   "id": "058e0dbc",
   "metadata": {},
   "source": [
    "## Get convolution weights"
   ]
  },
  {
   "cell_type": "code",
   "execution_count": 57,
   "id": "48878859",
   "metadata": {},
   "outputs": [],
   "source": [
    "voting_w, voting_b = net.vgen.conv3.get_weights()\n",
    "proposal_w, proposal_b = net.pnet.conv3.get_weights()"
   ]
  },
  {
   "cell_type": "code",
   "execution_count": 47,
   "id": "a731c80d",
   "metadata": {},
   "outputs": [],
   "source": [
    "voting_w_coords = voting_w[:,:,:,:3]\n",
    "voting_w_features = voting_w[:,:,:,3:]\n",
    "proposal_w_coords = proposal_w[:,:,:,:3]\n",
    "proposal_w_features = proposal_w[:,:,:,3:]"
   ]
  },
  {
   "cell_type": "markdown",
   "id": "8f0c0bf3",
   "metadata": {},
   "source": [
    "## Save weights and activations"
   ]
  },
  {
   "cell_type": "code",
   "execution_count": 55,
   "id": "c4f60b48",
   "metadata": {},
   "outputs": [],
   "source": [
    "SAVE_DIR = '/data/votenet_WandA_dist'"
   ]
  },
  {
   "cell_type": "code",
   "execution_count": 61,
   "id": "7de57045",
   "metadata": {},
   "outputs": [],
   "source": [
    "os.makedirs(SAVE_DIR, exist_ok=True)\n",
    "np.save(os.path.join(SAVE_DIR, 'voting_w'), voting_w)\n",
    "np.save(os.path.join(SAVE_DIR, 'proposal_w'), proposal_w)"
   ]
  },
  {
   "cell_type": "code",
   "execution_count": 67,
   "id": "65a75dec",
   "metadata": {},
   "outputs": [],
   "source": [
    "np.save(os.path.join(SAVE_DIR, 'voting_act_all'), voting_act_all)\n",
    "np.save(os.path.join(SAVE_DIR, 'proposal_act_all'), proposal_act_all)"
   ]
  },
  {
   "cell_type": "markdown",
   "id": "877bf526",
   "metadata": {},
   "source": [
    "## Load weights and activations"
   ]
  },
  {
   "cell_type": "code",
   "execution_count": 79,
   "id": "ad273a54",
   "metadata": {},
   "outputs": [],
   "source": [
    "LOAD_DIR = '/data/votenet_WandA_dist'"
   ]
  },
  {
   "cell_type": "code",
   "execution_count": 82,
   "id": "e942d6aa",
   "metadata": {},
   "outputs": [],
   "source": [
    "voting_w = np.load(os.path.join(LOAD_DIR, 'voting_w.npy'))\n",
    "proposal_w = np.load(os.path.join(LOAD_DIR, 'proposal_w.npy'))\n",
    "voting_act_all = np.load(os.path.join(LOAD_DIR, 'voting_act_all.npy'))\n",
    "proposal_act_all = np.load(os.path.join(LOAD_DIR, 'proposal_act_all.npy'))"
   ]
  },
  {
   "cell_type": "markdown",
   "id": "99d70e8d",
   "metadata": {},
   "source": [
    "# Draw distribution per channel"
   ]
  },
  {
   "cell_type": "code",
   "execution_count": 83,
   "id": "4f9a2cd9",
   "metadata": {},
   "outputs": [],
   "source": [
    "num_channel = proposal_act_all.shape[-1]\n",
    "rows = (num_channel - 1) // 5 + 1\n",
    "cols = 5"
   ]
  },
  {
   "cell_type": "code",
   "execution_count": 84,
   "id": "bf5fcc3c",
   "metadata": {},
   "outputs": [
    {
     "data": {
      "text/plain": [
       "(5285, 256, 1, 79)"
      ]
     },
     "execution_count": 84,
     "metadata": {},
     "output_type": "execute_result"
    }
   ],
   "source": [
    "proposal_act_all.shape"
   ]
  },
  {
   "cell_type": "code",
   "execution_count": 85,
   "id": "8fb9a548",
   "metadata": {
    "scrolled": false
   },
   "outputs": [
    {
     "data": {
      "image/png": "[encoded data removed]",
      "text/plain": [
       "<Figure size 1080x3456 with 80 Axes>"
      ]
     },
     "metadata": {
      "needs_background": "light"
     },
     "output_type": "display_data"
    }
   ],
   "source": [
    "#Draw charts\n",
    "data = np.reshape(proposal_act_all, (-1))\n",
    "bin_size = 1; min_edge = min(data); max_edge = max(data)\n",
    "N = int((max_edge-min_edge)/bin_size); Nplus1 = N + 1\n",
    "bin_list = np.linspace(min_edge, max_edge, Nplus1)\n",
    "\n",
    "#plt.figure(figsize=(30,30))\n",
    "fig, axs = plt.subplots(rows,  cols, figsize=(15,3*rows))\n",
    "for i in range(rows):\n",
    "    for j in range(cols):\n",
    "        chn = i * 5 + j\n",
    "        if chn >= num_channel: continue\n",
    "        chn_data = proposal_act_all[:,:,:,chn]\n",
    "        chn_data = np.reshape(chn_data, (-1,))\n",
    "        axs[i,j].hist(chn_data, bin_list, weights=np.ones(len(chn_data)) / len(chn_data))\n",
    "        axs[i,j].set_xlim((-15,5))\n",
    "        #axs[i,j].set_xlabel('Features part, mean: ' + '{0:.2f}'.format(np.mean(data)) + ', sd: ' + '{0:.2f}'.format(np.std(data)))\n",
    "        #axs[i,j].set_ylabel('Count')\n"
   ]
  },
  {
   "cell_type": "markdown",
   "id": "f8cca25d",
   "metadata": {},
   "source": [
    "## Draw distribution charts"
   ]
  },
  {
   "cell_type": "code",
   "execution_count": 53,
   "id": "76459c73",
   "metadata": {},
   "outputs": [
    {
     "data": {
      "text/plain": [
       "Text(0, 0.5, 'Count')"
      ]
     },
     "execution_count": 53,
     "metadata": {},
     "output_type": "execute_result"
    },
    {
     "data": {
      "text/plain": [
       "<Figure size 2160x2160 with 0 Axes>"
      ]
     },
     "metadata": {},
     "output_type": "display_data"
    },
    {
     "data": {
      "image/png": "[encoded data removed]",
      "text/plain": [
       "<Figure size 1080x360 with 2 Axes>"
      ]
     },
     "metadata": {
      "needs_background": "light"
     },
     "output_type": "display_data"
    }
   ],
   "source": [
    "plt.figure(figsize=(30,30))\n",
    "fig, (ax1, ax2) = plt.subplots(1, 2,figsize=(15,5))\n",
    "fig.suptitle('Distribution of weights, in Voting module')\n",
    "\n",
    "data = np.reshape(voting_w_coords, (-1))\n",
    "bin_size = 0.1; min_edge = min(data); max_edge = max(data)\n",
    "N = int((max_edge-min_edge)/bin_size); Nplus1 = N + 1\n",
    "bin_list = np.linspace(min_edge, max_edge, Nplus1)\n",
    "ax1.hist(data, bin_list)\n",
    "ax1.set_xlim((-0.5,0.5))\n",
    "ax1.set_xlabel('Coordinates part, mean: ' + '{0:.2f}'.format(np.mean(data)) + ', sd: ' + '{0:.2f}'.format(np.std(data)))\n",
    "ax1.set_ylabel('Count')\n",
    "\n",
    "data = np.reshape(voting_w_features, (-1))\n",
    "bin_size = 0.1; min_edge = min(data); max_edge = max(data)\n",
    "N = int((max_edge-min_edge)/bin_size); Nplus1 = N + 1\n",
    "bin_list = np.linspace(min_edge, max_edge, Nplus1)\n",
    "\n",
    "ax2.hist(data, bin_list)\n",
    "ax2.set_xlim((-0.5,0.5))\n",
    "ax2.set_xlabel('Features part, mean: ' + '{0:.2f}'.format(np.mean(data)) + ', sd: ' + '{0:.2f}'.format(np.std(data)))\n",
    "ax2.set_ylabel('Count')"
   ]
  },
  {
   "cell_type": "code",
   "execution_count": 49,
   "id": "08aaebae",
   "metadata": {},
   "outputs": [
    {
     "data": {
      "text/plain": [
       "Text(0, 0.5, 'Count')"
      ]
     },
     "execution_count": 49,
     "metadata": {},
     "output_type": "execute_result"
    },
    {
     "data": {
      "text/plain": [
       "<Figure size 2160x2160 with 0 Axes>"
      ]
     },
     "metadata": {},
     "output_type": "display_data"
    },
    {
     "data": {
      "image/png": "[encoded data removed]",
      "text/plain": [
       "<Figure size 1080x360 with 2 Axes>"
      ]
     },
     "metadata": {
      "needs_background": "light"
     },
     "output_type": "display_data"
    }
   ],
   "source": [
    "plt.figure(figsize=(30,30))\n",
    "fig, (ax1, ax2) = plt.subplots(1, 2,figsize=(15,5))\n",
    "fig.suptitle('Distribution of activations, in Voting module')\n",
    "\n",
    "data = np.reshape(voting_act_coords, (-1))\n",
    "bin_size = 0.25; min_edge = min(data); max_edge = max(data)\n",
    "N = int((max_edge-min_edge)/bin_size); Nplus1 = N + 1\n",
    "bin_list = np.linspace(min_edge, max_edge, Nplus1)\n",
    "ax1.hist(data, bin_list)\n",
    "ax1.set_xlim((-4,4))\n",
    "ax1.set_xlabel('Coordinates part, mean: ' + '{0:.2f}'.format(np.mean(data)) + ', sd: ' + '{0:.2f}'.format(np.std(data)))\n",
    "ax1.set_ylabel('Count')\n",
    "\n",
    "data = np.reshape(voting_act_features, (-1))\n",
    "bin_size = 0.25; min_edge = min(data); max_edge = max(data)\n",
    "N = int((max_edge-min_edge)/bin_size); Nplus1 = N + 1\n",
    "bin_list = np.linspace(min_edge, max_edge, Nplus1)\n",
    "\n",
    "ax2.hist(data, bin_list)\n",
    "ax2.set_xlim((-4,4))\n",
    "ax2.set_xlabel('Features part, mean: ' + '{0:.2f}'.format(np.mean(data)) + ', sd: ' + '{0:.2f}'.format(np.std(data)))\n",
    "ax2.set_ylabel('Count')"
   ]
  },
  {
   "cell_type": "code",
   "execution_count": 50,
   "id": "0e0d121f",
   "metadata": {},
   "outputs": [
    {
     "data": {
      "text/plain": [
       "Text(0, 0.5, 'Count')"
      ]
     },
     "execution_count": 50,
     "metadata": {},
     "output_type": "execute_result"
    },
    {
     "data": {
      "text/plain": [
       "<Figure size 2160x2160 with 0 Axes>"
      ]
     },
     "metadata": {},
     "output_type": "display_data"
    },
    {
     "data": {
      "image/png": "[encoded data removed]",
      "text/plain": [
       "<Figure size 1080x360 with 2 Axes>"
      ]
     },
     "metadata": {
      "needs_background": "light"
     },
     "output_type": "display_data"
    }
   ],
   "source": [
    "plt.figure(figsize=(30,30))\n",
    "fig, (ax1, ax2) = plt.subplots(1, 2,figsize=(15,5))\n",
    "fig.suptitle('Distribution of weights, in Proposal module')\n",
    "\n",
    "data = np.reshape(proposal_w_coords, (-1))\n",
    "bin_size = 0.1; min_edge = min(data); max_edge = max(data)\n",
    "N = int((max_edge-min_edge)/bin_size); Nplus1 = N + 1\n",
    "bin_list = np.linspace(min_edge, max_edge, Nplus1)\n",
    "ax1.hist(data, bin_list)\n",
    "ax1.set_xlim((-2,2))\n",
    "ax1.set_xlabel('Coordinates part, mean: ' + '{0:.2f}'.format(np.mean(data)) + ', sd: ' + '{0:.2f}'.format(np.std(data)))\n",
    "ax1.set_ylabel('Count')\n",
    "\n",
    "data = np.reshape(proposal_w_features, (-1))\n",
    "bin_size = 0.1; min_edge = min(data); max_edge = max(data)\n",
    "N = int((max_edge-min_edge)/bin_size); Nplus1 = N + 1\n",
    "bin_list = np.linspace(min_edge, max_edge, Nplus1)\n",
    "\n",
    "ax2.hist(data, bin_list)\n",
    "ax2.set_xlim((-2,2))\n",
    "ax2.set_xlabel('Features part, mean: ' + '{0:.2f}'.format(np.mean(data)) + ', sd: ' + '{0:.2f}'.format(np.std(data)))\n",
    "ax2.set_ylabel('Count')"
   ]
  },
  {
   "cell_type": "code",
   "execution_count": 76,
   "id": "7ee8e6ac",
   "metadata": {},
   "outputs": [
    {
     "data": {
      "text/plain": [
       "Text(0, 0.5, 'Count')"
      ]
     },
     "execution_count": 76,
     "metadata": {},
     "output_type": "execute_result"
    },
    {
     "data": {
      "text/plain": [
       "<Figure size 2160x2160 with 0 Axes>"
      ]
     },
     "metadata": {},
     "output_type": "display_data"
    },
    {
     "data": {
      "image/png": "[encoded data removed]",
      "text/plain": [
       "<Figure size 1080x360 with 2 Axes>"
      ]
     },
     "metadata": {
      "needs_background": "light"
     },
     "output_type": "display_data"
    }
   ],
   "source": [
    "plt.figure(figsize=(30,30))\n",
    "fig, (ax1, ax2) = plt.subplots(1, 2,figsize=(15,5))\n",
    "fig.suptitle('Distribution of activations, in Proposal module')\n",
    "\n",
    "data = np.reshape(proposal_act_coords, (-1))\n",
    "bin_size = 1; min_edge = min(data); max_edge = max(data)\n",
    "N = int((max_edge-min_edge)/bin_size); Nplus1 = N + 1\n",
    "bin_list = np.linspace(min_edge, max_edge, Nplus1)\n",
    "ax1.hist(data, bin_list)\n",
    "ax1.set_xlim((-15,5))\n",
    "ax1.set_xlabel('Coordinates part, mean: ' + '{0:.2f}'.format(np.mean(data)) + ', sd: ' + '{0:.2f}'.format(np.std(data)))\n",
    "ax1.set_ylabel('Count')\n",
    "\n",
    "data = np.reshape(proposal_act_features, (-1))\n",
    "bin_size = 1; min_edge = min(data); max_edge = max(data)\n",
    "N = int((max_edge-min_edge)/bin_size); Nplus1 = N + 1\n",
    "bin_list = np.linspace(min_edge, max_edge, Nplus1)\n",
    "\n",
    "ax2.hist(data, bin_list)\n",
    "ax2.set_xlim((-15,5))\n",
    "ax2.set_xlabel('Features part, mean: ' + '{0:.2f}'.format(np.mean(data)) + ', sd: ' + '{0:.2f}'.format(np.std(data)))\n",
    "ax2.set_ylabel('Count')"
   ]
  },
  {
   "cell_type": "code",
   "execution_count": 75,
   "id": "d3ce55df",
   "metadata": {
    "scrolled": true
   },
   "outputs": [
    {
     "name": "stdout",
     "output_type": "stream",
     "text": [
      "Collecting plotinpy\n",
      "  Downloading plotinpy-0.1.1.tar.gz (4.6 kB)\n",
      "Requirement already satisfied: matplotlib in /home/keondopark/anaconda3/envs/tf_3090/lib/python3.8/site-packages (from plotinpy) (3.5.0)\n",
      "Requirement already satisfied: numpy in /home/keondopark/anaconda3/envs/tf_3090/lib/python3.8/site-packages (from plotinpy) (1.19.5)\n",
      "Requirement already satisfied: python-dateutil>=2.7 in /home/keondopark/anaconda3/envs/tf_3090/lib/python3.8/site-packages (from matplotlib->plotinpy) (2.8.2)\n",
      "Requirement already satisfied: packaging>=20.0 in /home/keondopark/anaconda3/envs/tf_3090/lib/python3.8/site-packages (from matplotlib->plotinpy) (21.3)\n",
      "Requirement already satisfied: pyparsing>=2.2.1 in /home/keondopark/anaconda3/envs/tf_3090/lib/python3.8/site-packages (from matplotlib->plotinpy) (3.0.6)\n",
      "Requirement already satisfied: kiwisolver>=1.0.1 in /home/keondopark/anaconda3/envs/tf_3090/lib/python3.8/site-packages (from matplotlib->plotinpy) (1.3.2)\n",
      "Requirement already satisfied: cycler>=0.10 in /home/keondopark/anaconda3/envs/tf_3090/lib/python3.8/site-packages (from matplotlib->plotinpy) (0.11.0)\n",
      "Requirement already satisfied: fonttools>=4.22.0 in /home/keondopark/anaconda3/envs/tf_3090/lib/python3.8/site-packages (from matplotlib->plotinpy) (4.28.3)\n",
      "Requirement already satisfied: pillow>=6.2.0 in /home/keondopark/anaconda3/envs/tf_3090/lib/python3.8/site-packages (from matplotlib->plotinpy) (8.4.0)\n",
      "Requirement already satisfied: setuptools-scm>=4 in /home/keondopark/anaconda3/envs/tf_3090/lib/python3.8/site-packages (from matplotlib->plotinpy) (6.3.2)\n",
      "Requirement already satisfied: six>=1.5 in /home/keondopark/anaconda3/envs/tf_3090/lib/python3.8/site-packages (from python-dateutil>=2.7->matplotlib->plotinpy) (1.15.0)\n",
      "Requirement already satisfied: setuptools in /home/keondopark/anaconda3/envs/tf_3090/lib/python3.8/site-packages (from setuptools-scm>=4->matplotlib->plotinpy) (58.0.4)\n",
      "Requirement already satisfied: tomli>=1.0.0 in /home/keondopark/anaconda3/envs/tf_3090/lib/python3.8/site-packages (from setuptools-scm>=4->matplotlib->plotinpy) (1.2.2)\n",
      "Building wheels for collected packages: plotinpy\n",
      "  Building wheel for plotinpy (setup.py) ... \u001b[?25ldone\n",
      "\u001b[?25h  Created wheel for plotinpy: filename=plotinpy-0.1.1-py3-none-any.whl size=5238 sha256=31e28a09e40928ee9fb5f2d42f1a78882c6d77740f12e0d89946ed583702184e\n",
      "  Stored in directory: /home/keondopark/.cache/pip/wheels/26/1e/84/d679be3e967542d1d9e8901d9917de9bce19e645252a15508e\n",
      "Successfully built plotinpy\n",
      "Installing collected packages: plotinpy\n",
      "Successfully installed plotinpy-0.1.1\n"
     ]
    }
   ],
   "source": [
    "!pip install plotinpy\n"
   ]
  },
  {
   "cell_type": "code",
   "execution_count": 77,
   "id": "89a9efe7",
   "metadata": {},
   "outputs": [],
   "source": [
    "import plotinpy as pnp"
   ]
  },
  {
   "cell_type": "code",
   "execution_count": 78,
   "id": "97782eb8",
   "metadata": {},
   "outputs": [
    {
     "data": {
      "text/plain": [
       "{'figure': <Figure size 432x288 with 2 Axes>,\n",
       " 'axes': [<AxesSubplot:>, <AxesSubplot:>]}"
      ]
     },
     "execution_count": 78,
     "metadata": {},
     "output_type": "execute_result"
    },
    {
     "data": {
      "image/png": "[encoded data removed]",
      "text/plain": [
       "<Figure size 432x288 with 2 Axes>"
      ]
     },
     "metadata": {
      "needs_background": "light"
     },
     "output_type": "display_data"
    }
   ],
   "source": [
    "plt.figure()\n",
    "pnp.plot_bars_with_breaks(\n",
    "    [1, 2, 30],\n",
    "    [(15, 25)]\n",
    "    )"
   ]
  },
  {
   "cell_type": "code",
   "execution_count": 81,
   "id": "c6a616a8",
   "metadata": {},
   "outputs": [
    {
     "name": "stdout",
     "output_type": "stream",
     "text": [
      "Collecting pandas\n",
      "  Downloading pandas-1.3.4-cp38-cp38-manylinux_2_17_x86_64.manylinux2014_x86_64.whl (11.5 MB)\n",
      "\u001b[K     |████████████████████████████████| 11.5 MB 7.3 MB/s eta 0:00:01\n",
      "\u001b[?25hRequirement already satisfied: numpy>=1.17.3 in /home/keondopark/anaconda3/envs/tf_3090/lib/python3.8/site-packages (from pandas) (1.19.5)\n",
      "Requirement already satisfied: python-dateutil>=2.7.3 in /home/keondopark/anaconda3/envs/tf_3090/lib/python3.8/site-packages (from pandas) (2.8.2)\n",
      "Collecting pytz>=2017.3\n",
      "  Using cached pytz-2021.3-py2.py3-none-any.whl (503 kB)\n",
      "Requirement already satisfied: six>=1.5 in /home/keondopark/anaconda3/envs/tf_3090/lib/python3.8/site-packages (from python-dateutil>=2.7.3->pandas) (1.15.0)\n",
      "Installing collected packages: pytz, pandas\n",
      "Successfully installed pandas-1.3.4 pytz-2021.3\n"
     ]
    }
   ],
   "source": [
    "!pip install pandas"
   ]
  },
  {
   "cell_type": "code",
   "execution_count": 104,
   "id": "64e82222",
   "metadata": {},
   "outputs": [
    {
     "data": {
      "image/png": "[encoded data removed]",
      "text/plain": [
       "<Figure size 360x432 with 2 Axes>"
      ]
     },
     "metadata": {
      "needs_background": "light"
     },
     "output_type": "display_data"
    }
   ],
   "source": [
    "import pandas as pd\n",
    "import matplotlib.pyplot as plt\n",
    "import numpy as np\n",
    "\n",
    "XX = pd.Series([200,400,100,1400],index=['x1','x2','x3','x4'])\n",
    "fig, (ax1,ax2) = plt.subplots(2,1,sharex=True,\n",
    "                         figsize=(5,6))\n",
    "ax1.spines['bottom'].set_visible(False)\n",
    "ax1.tick_params(axis='x',which='both',bottom=False)\n",
    "ax2.spines['top'].set_visible(False)\n",
    "\n",
    "bs = 500\n",
    "ts = 1000\n",
    "\n",
    "ax2.set_ylim(0,bs)\n",
    "ax1.set_ylim(ts,1500)\n",
    "ax1.set_yticks(np.arange(1000,1501,100))\n",
    "\n",
    "bars1 = ax1.bar(XX.index, XX.values)\n",
    "bars2 = ax2.bar(XX.index, XX.values)\n",
    "\n",
    "for tick in ax2.get_xticklabels():\n",
    "    tick.set_rotation(0)\n",
    "d = .015  \n",
    "\n",
    "kwargs = dict(transform=ax1.transAxes, color='k', clip_on=False)\n",
    "ax1.plot((-d, +d), (-d, +d), **kwargs)      \n",
    "ax1.plot((1 - d, 1 + d), (-d, +d), **kwargs)\n",
    "\n",
    "kwargs.update(transform=ax2.transAxes)  \n",
    "ax2.plot((-d, +d), (1 - d, 1 + d), **kwargs)  \n",
    "ax2.plot((1 - d, 1 + d), (1 - d, 1 + d), **kwargs)\n",
    "\n",
    "\n",
    "for b1, b2 in zip(bars1, bars2):\n",
    "    posx = b2.get_x() + b2.get_width()/2.\n",
    "    if b2.get_height() > bs:\n",
    "        ax2.plot((posx-3*d, posx+3*d), (1 - d, 1 + d), color='k', clip_on=False,\n",
    "                 transform=ax2.get_xaxis_transform())\n",
    "    if b1.get_height() > ts:\n",
    "        ax1.plot((posx-3*d, posx+3*d), (- d, + d), color='k', clip_on=False,\n",
    "                 transform=ax1.get_xaxis_transform())\n",
    "\n",
    "plt.show()"
   ]
  },
  {
   "cell_type": "code",
   "execution_count": 132,
   "id": "eb5a9289",
   "metadata": {},
   "outputs": [
    {
     "data": {
      "image/png": "[encoded data removed]",
      "text/plain": [
       "<Figure size 720x432 with 3 Axes>"
      ]
     },
     "metadata": {
      "needs_background": "light"
     },
     "output_type": "display_data"
    }
   ],
   "source": [
    "labels = ['VoteNet', 'Votenet\\n + PointPainting', 'VoteNet\\n + PointPainting', 'LuxMea', 'LuxMea Pipelined']\n",
    "pointpainting = [0, 12838, 233, 232, 235]\n",
    "FeatureExtractor = [4132,2053,817,817,451]\n",
    "VotingProposal_bottom = [4132,14891,1051,1049,686]\n",
    "VotingProposal = [998,904,93,101,101]\n",
    "#women_std = [3, 5, 2, 3, 3]\n",
    "width = 0.35       # the width of the bars: can also be len(x) sequence\n",
    "\n",
    "fig, (ax1,ax2) = plt.subplots(2,1,sharex=True,figsize=(10,6))\n",
    "bs = 5000\n",
    "ts = 12000\n",
    "\n",
    "# Draw axis on both ax1, ax2\n",
    "ax2.set_ylim(0,bs)\n",
    "ax1.set_ylim(ts,16000)\n",
    "ax1.set_yticks(np.arange(ts,16000,1000))\n",
    "ax1.spines['bottom'].set_visible(False)\n",
    "ax1.tick_params(axis='x',which='both',bottom=False)\n",
    "ax2.spines['top'].set_visible(False)\n",
    "\n",
    "# Draw stacked bars on both ax1, ax2\n",
    "#bars2 = ax2.bar(labels, pointpainting, width, yerr=men_std, label='pointpainting')\n",
    "bars2 = ax2.bar(labels, pointpainting, width, label='pointpainting')\n",
    "ax2.bar(labels, FeatureExtractor, width, bottom=pointpainting,\n",
    "       label='Feature Extractor')\n",
    "ax2.bar(labels, VotingProposal, width, bottom=VotingProposal_bottom,\n",
    "       label='Voting and Proposal')\n",
    "bars1 = ax1.bar(labels, pointpainting, width, label='pointpainting')\n",
    "ax1.bar(labels, FeatureExtractor, width, bottom=pointpainting,\n",
    "       label='Feature Extractor')\n",
    "ax1.bar(labels, VotingProposal, width, bottom=VotingProposal_bottom,\n",
    "       label='Voting and Proposal')\n",
    "\n",
    "# Break mark on axis\n",
    "d = .015  \n",
    "kwargs = dict(transform=ax1.transAxes, color='k', clip_on=False)\n",
    "ax1.plot((-d, +d), (-d, +d), **kwargs)      \n",
    "ax1.plot((1 - d, 1 + d), (-d, +d), **kwargs)\n",
    "\n",
    "kwargs.update(transform=ax2.transAxes)  \n",
    "ax2.plot((-d, +d), (1 - d, 1 + d), **kwargs)  \n",
    "ax2.plot((1 - d, 1 + d), (1 - d, 1 + d), **kwargs)\n",
    "\n",
    "for b1, b2 in zip(bars1, bars2):\n",
    "    posx = b2.get_x() + b2.get_width()/2.\n",
    "    if b2.get_height() > bs:\n",
    "        ax2.plot((posx-3*d, posx+3*d), (1 - d, 1 + d), color='k', clip_on=False,\n",
    "                 transform=ax2.get_xaxis_transform())\n",
    "    if b1.get_height() > ts:\n",
    "        ax1.plot((posx-3*d, posx+3*d), (- d, + d), color='k', clip_on=False,\n",
    "                 transform=ax1.get_xaxis_transform())\n",
    "\n",
    "\n",
    "ax2.set_ylabel('Inference time')\n",
    "ax1.set_title('Inference time comparison')\n",
    "ax1.legend()\n",
    "\n",
    "# Second X-axis\n",
    "import matplotlib.ticker as ticker\n",
    "ax3 = ax2.twiny()\n",
    "\n",
    "ax3.spines[\"bottom\"].set_position((\"axes\", -0.30))\n",
    "ax3.spines['top'].set_visible(False)\n",
    "ax3.tick_params('both', length=0, width=0, which='minor')\n",
    "ax3.tick_params('both', direction='in', which='major')\n",
    "ax3.xaxis.set_ticks_position(\"bottom\")\n",
    "ax3.xaxis.set_label_position(\"bottom\")\n",
    "\n",
    "ax3.set_xticks([0.0, 0.4, 1.0])\n",
    "ax3.xaxis.set_major_formatter(ticker.NullFormatter())\n",
    "ax3.xaxis.set_minor_locator(ticker.FixedLocator([0.2, 0.7]))\n",
    "ax3.xaxis.set_minor_formatter(ticker.FixedFormatter(['GPU Only', 'GPU + TPU']))\n",
    "\n",
    "plt.show()"
   ]
  },
  {
   "cell_type": "code",
   "execution_count": null,
   "id": "8a9cd1ec",
   "metadata": {},
   "outputs": [],
   "source": []
  },
  {
   "cell_type": "code",
   "execution_count": null,
   "id": "a7dcd442",
   "metadata": {},
   "outputs": [],
   "source": []
  }
 ],
 "metadata": {
  "kernelspec": {
   "display_name": "Python 3 (ipykernel)",
   "language": "python",
   "name": "python3"
  },
  "language_info": {
   "codemirror_mode": {
    "name": "ipython",
    "version": 3
   },
   "file_extension": ".py",
   "mimetype": "text/x-python",
   "name": "python",
   "nbconvert_exporter": "python",
   "pygments_lexer": "ipython3",
   "version": "3.8.0"
  }
 },
 "nbformat": 4,
 "nbformat_minor": 5
}
