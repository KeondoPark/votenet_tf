{
 "cells": [
  {
   "cell_type": "code",
   "execution_count": null,
   "id": "d09d8811",
   "metadata": {},
   "outputs": [
    {
     "name": "stdout",
     "output_type": "stream",
     "text": [
      "2021-10-19 10:35:11.379435: I tensorflow/stream_executor/platform/default/dso_loader.cc:53] Successfully opened dynamic library libcudart.so.11.0\n",
      "/home/keondopark/sunrgbd_pc_train_painted_tf\n",
      "2021-10-19 10:35:14.600619: I tensorflow/stream_executor/platform/default/dso_loader.cc:53] Successfully opened dynamic library libcuda.so.1\n"
     ]
    }
   ],
   "source": [
    "!python train_tf.py --checkpoint_path tf_ckpt/211020 --log_dir logs/log_211020 --use_painted"
   ]
  },
  {
   "cell_type": "code",
   "execution_count": null,
   "id": "632a10bc",
   "metadata": {},
   "outputs": [],
   "source": []
  }
 ],
 "metadata": {
  "kernelspec": {
   "display_name": "Python 3 (ipykernel)",
   "language": "python",
   "name": "python3"
  },
  "language_info": {
   "codemirror_mode": {
    "name": "ipython",
    "version": 3
   },
   "file_extension": ".py",
   "mimetype": "text/x-python",
   "name": "python",
   "nbconvert_exporter": "python",
   "pygments_lexer": "ipython3",
   "version": "3.8.0"
  }
 },
 "nbformat": 4,
 "nbformat_minor": 5
}
